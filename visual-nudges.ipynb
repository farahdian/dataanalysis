{
 "cells": [
  {
   "cell_type": "markdown",
   "metadata": {},
   "source": [
    "Import relevant libraries"
   ]
  },
  {
   "cell_type": "code",
   "execution_count": 2,
   "metadata": {},
   "outputs": [],
   "source": [
    "import pandas as pd\n",
    "import statistics\n",
    "import matplotlib as mpl\n",
    "import matplotlib.pyplot as plt\n",
    "import numpy as np\n",
    "from fitter import Fitter, get_common_distributions\n",
    "import scipy.stats as stats"
   ]
  },
  {
   "cell_type": "markdown",
   "metadata": {},
   "source": [
    "Import data"
   ]
  },
  {
   "cell_type": "code",
   "execution_count": 3,
   "metadata": {},
   "outputs": [],
   "source": [
    "df= pd.read_csv('./Visual Nudges Survey - Visual Nudges Survey_27 September 2022_14.51.csv')\n"
   ]
  },
  {
   "cell_type": "markdown",
   "metadata": {},
   "source": [
    "Columns header reference "
   ]
  },
  {
   "cell_type": "code",
   "execution_count": 4,
   "metadata": {},
   "outputs": [
    {
     "data": {
      "text/plain": [
       "Index(['StartDate', 'EndDate', 'Status', 'IPAddress', 'Progress',\n",
       "       'Duration (in seconds)', 'Finished', 'RecordedDate', 'ResponseId',\n",
       "       'LocationLatitude', 'LocationLongitude', 'DistributionChannel',\n",
       "       'UserLanguage', 'Q_RecaptchaScore', 'Consent', 'S1', 'S2',\n",
       "       'SM Activities_1', 'SM Activities_2', 'SM Activities_3',\n",
       "       'SM Activities_4', 'SM Privacy', 'PCV1', 'PCV2', 'PCV3', 'PCH1', 'PCH2',\n",
       "       'PCH3', 'Visual_1_x', 'Visual_1_y', 'Visual_Yes', 'Visual_No',\n",
       "       'Visual_Other', 'VC Time_First Click', 'VC Time_Last Click',\n",
       "       'VC Time_Page Submit', 'VC Time_Click Count', 'Rationale No: VC',\n",
       "       'Rationale No: VC_6_TEXT', 'Pick element_1', 'Pick element_2',\n",
       "       'Pick element_3', 'Pick element_4', 'Pick element_5', 'Pick element_6',\n",
       "       'VC-Trust_1', 'VC-Stimulation_1', 'VC-Stimulation_2',\n",
       "       'VC-Stimulation_3', 'VC-Relevance', 'VC-Rationale',\n",
       "       'Control Condition_1_x', 'Control Condition_1_y',\n",
       "       'Control Condition_Yes', 'Control Condition_No',\n",
       "       'Control Condition_Other', 'C Time_First Click', 'C Time_Last Click',\n",
       "       'C Time_Page Submit', 'C Time_Click Count', 'Rationale No: C',\n",
       "       'Rationale No: C_5_TEXT', 'C-Trust_1', 'C-Stimulation_1',\n",
       "       'C-Stimulation_2', 'C-Stimulation_3', 'C-Relevance',\n",
       "       'C-Ratings Rationale', 'GD1', 'GD2', 'GD2_4_TEXT', 'GD3',\n",
       "       'Employment status', 'Company size', 'Industry', 'Q41',\n",
       "       'SolutionRevision', 'ProjectCategory', 'ProjectType',\n",
       "       'Rationale No: VC_6_TEXT - Parent Topics',\n",
       "       'Rationale No: VC_6_TEXT - Topics',\n",
       "       'C-Ratings Rationale - Parent Topics', 'C-Ratings Rationale - Topics',\n",
       "       'Rationale No: C_5_TEXT - Parent Topics',\n",
       "       'Rationale No: C_5_TEXT - Topics', 'VC-Rationale - Parent Topics',\n",
       "       'VC-Rationale - Topics'],\n",
       "      dtype='object')"
      ]
     },
     "execution_count": 4,
     "metadata": {},
     "output_type": "execute_result"
    }
   ],
   "source": [
    "df.columns"
   ]
  },
  {
   "cell_type": "markdown",
   "metadata": {},
   "source": [
    "Filtering by response to nudge (both visual & control, between yes and no)"
   ]
  },
  {
   "cell_type": "code",
   "execution_count": 5,
   "metadata": {},
   "outputs": [
    {
     "data": {
      "text/html": [
       "<div>\n",
       "<style scoped>\n",
       "    .dataframe tbody tr th:only-of-type {\n",
       "        vertical-align: middle;\n",
       "    }\n",
       "\n",
       "    .dataframe tbody tr th {\n",
       "        vertical-align: top;\n",
       "    }\n",
       "\n",
       "    .dataframe thead th {\n",
       "        text-align: right;\n",
       "    }\n",
       "</style>\n",
       "<table border=\"1\" class=\"dataframe\">\n",
       "  <thead>\n",
       "    <tr style=\"text-align: right;\">\n",
       "      <th></th>\n",
       "      <th>PCV1</th>\n",
       "      <th>PCV2</th>\n",
       "      <th>PCV3</th>\n",
       "      <th>PCH1</th>\n",
       "      <th>PCH2</th>\n",
       "      <th>PCH3</th>\n",
       "    </tr>\n",
       "  </thead>\n",
       "  <tbody>\n",
       "    <tr>\n",
       "      <th>1</th>\n",
       "      <td>A moderate amount</td>\n",
       "      <td>A moderate amount</td>\n",
       "      <td>A moderate amount</td>\n",
       "      <td>A lot</td>\n",
       "      <td>A lot</td>\n",
       "      <td>A little</td>\n",
       "    </tr>\n",
       "    <tr>\n",
       "      <th>3</th>\n",
       "      <td>A lot</td>\n",
       "      <td>A great deal</td>\n",
       "      <td>A great deal</td>\n",
       "      <td>A lot</td>\n",
       "      <td>A lot</td>\n",
       "      <td>A lot</td>\n",
       "    </tr>\n",
       "    <tr>\n",
       "      <th>4</th>\n",
       "      <td>A lot</td>\n",
       "      <td>A great deal</td>\n",
       "      <td>A lot</td>\n",
       "      <td>A great deal</td>\n",
       "      <td>A lot</td>\n",
       "      <td>A great deal</td>\n",
       "    </tr>\n",
       "    <tr>\n",
       "      <th>9</th>\n",
       "      <td>A moderate amount</td>\n",
       "      <td>A lot</td>\n",
       "      <td>A moderate amount</td>\n",
       "      <td>A moderate amount</td>\n",
       "      <td>A lot</td>\n",
       "      <td>A little</td>\n",
       "    </tr>\n",
       "    <tr>\n",
       "      <th>19</th>\n",
       "      <td>A great deal</td>\n",
       "      <td>A great deal</td>\n",
       "      <td>A great deal</td>\n",
       "      <td>A great deal</td>\n",
       "      <td>A great deal</td>\n",
       "      <td>A great deal</td>\n",
       "    </tr>\n",
       "  </tbody>\n",
       "</table>\n",
       "</div>"
      ],
      "text/plain": [
       "                 PCV1               PCV2               PCV3  \\\n",
       "1   A moderate amount  A moderate amount  A moderate amount   \n",
       "3               A lot       A great deal       A great deal   \n",
       "4               A lot       A great deal              A lot   \n",
       "9   A moderate amount              A lot  A moderate amount   \n",
       "19       A great deal       A great deal       A great deal   \n",
       "\n",
       "                 PCH1          PCH2          PCH3  \n",
       "1               A lot         A lot      A little  \n",
       "3               A lot         A lot         A lot  \n",
       "4        A great deal         A lot  A great deal  \n",
       "9   A moderate amount         A lot      A little  \n",
       "19       A great deal  A great deal  A great deal  "
      ]
     },
     "execution_count": 5,
     "metadata": {},
     "output_type": "execute_result"
    }
   ],
   "source": [
    "no=df[(df['Visual_No']==1)|(df['Control Condition_No']==1)]\n",
    "no.loc[:,['PCV1', 'PCV2', 'PCV3', 'PCH1', 'PCH2','PCH3']].head()\n"
   ]
  },
  {
   "cell_type": "code",
   "execution_count": 6,
   "metadata": {},
   "outputs": [
    {
     "data": {
      "text/html": [
       "<div>\n",
       "<style scoped>\n",
       "    .dataframe tbody tr th:only-of-type {\n",
       "        vertical-align: middle;\n",
       "    }\n",
       "\n",
       "    .dataframe tbody tr th {\n",
       "        vertical-align: top;\n",
       "    }\n",
       "\n",
       "    .dataframe thead th {\n",
       "        text-align: right;\n",
       "    }\n",
       "</style>\n",
       "<table border=\"1\" class=\"dataframe\">\n",
       "  <thead>\n",
       "    <tr style=\"text-align: right;\">\n",
       "      <th></th>\n",
       "      <th>PCV1</th>\n",
       "      <th>PCV2</th>\n",
       "      <th>PCV3</th>\n",
       "      <th>PCH1</th>\n",
       "      <th>PCH2</th>\n",
       "      <th>PCH3</th>\n",
       "    </tr>\n",
       "  </thead>\n",
       "  <tbody>\n",
       "    <tr>\n",
       "      <th>0</th>\n",
       "      <td>A little</td>\n",
       "      <td>A moderate amount</td>\n",
       "      <td>A little</td>\n",
       "      <td>A lot</td>\n",
       "      <td>A moderate amount</td>\n",
       "      <td>A great deal</td>\n",
       "    </tr>\n",
       "    <tr>\n",
       "      <th>2</th>\n",
       "      <td>A lot</td>\n",
       "      <td>A lot</td>\n",
       "      <td>A moderate amount</td>\n",
       "      <td>A great deal</td>\n",
       "      <td>A moderate amount</td>\n",
       "      <td>A lot</td>\n",
       "    </tr>\n",
       "    <tr>\n",
       "      <th>5</th>\n",
       "      <td>A lot</td>\n",
       "      <td>A great deal</td>\n",
       "      <td>A lot</td>\n",
       "      <td>A lot</td>\n",
       "      <td>A moderate amount</td>\n",
       "      <td>A great deal</td>\n",
       "    </tr>\n",
       "    <tr>\n",
       "      <th>6</th>\n",
       "      <td>None at all</td>\n",
       "      <td>A little</td>\n",
       "      <td>None at all</td>\n",
       "      <td>A moderate amount</td>\n",
       "      <td>A lot</td>\n",
       "      <td>A moderate amount</td>\n",
       "    </tr>\n",
       "    <tr>\n",
       "      <th>7</th>\n",
       "      <td>A lot</td>\n",
       "      <td>A great deal</td>\n",
       "      <td>A moderate amount</td>\n",
       "      <td>A great deal</td>\n",
       "      <td>A great deal</td>\n",
       "      <td>A great deal</td>\n",
       "    </tr>\n",
       "  </tbody>\n",
       "</table>\n",
       "</div>"
      ],
      "text/plain": [
       "          PCV1               PCV2               PCV3               PCH1  \\\n",
       "0     A little  A moderate amount           A little              A lot   \n",
       "2        A lot              A lot  A moderate amount       A great deal   \n",
       "5        A lot       A great deal              A lot              A lot   \n",
       "6  None at all           A little        None at all  A moderate amount   \n",
       "7        A lot       A great deal  A moderate amount       A great deal   \n",
       "\n",
       "                PCH2               PCH3  \n",
       "0  A moderate amount       A great deal  \n",
       "2  A moderate amount              A lot  \n",
       "5  A moderate amount       A great deal  \n",
       "6              A lot  A moderate amount  \n",
       "7       A great deal       A great deal  "
      ]
     },
     "execution_count": 6,
     "metadata": {},
     "output_type": "execute_result"
    }
   ],
   "source": [
    "yes=df[(df['Visual_Yes']==1)|(df['Control Condition_Yes']==1)]\n",
    "yes.loc[:,['PCV1', 'PCV2', 'PCV3', 'PCH1', 'PCH2','PCH3']].head()\n"
   ]
  },
  {
   "cell_type": "markdown",
   "metadata": {},
   "source": [
    "Setting values for responses"
   ]
  },
  {
   "cell_type": "code",
   "execution_count": 7,
   "metadata": {},
   "outputs": [],
   "source": [
    "scores={\n",
    "    'None at all': 0,\n",
    "    'A little': 1,\n",
    "    'A moderate amount': 2,\n",
    "    'A lot': 3,\n",
    "    'A great deal': 4\n",
    "    }\n",
    "\n"
   ]
  },
  {
   "cell_type": "markdown",
   "metadata": {},
   "source": [
    "Weight assignment function"
   ]
  },
  {
   "cell_type": "code",
   "execution_count": 8,
   "metadata": {},
   "outputs": [],
   "source": [
    "def counter(col, frame):\n",
    "    count=0\n",
    "    for item in col:\n",
    "        if item in scores:\n",
    "            count+=scores[item]\n",
    "    return count/len(frame)"
   ]
  },
  {
   "cell_type": "code",
   "execution_count": 9,
   "metadata": {},
   "outputs": [],
   "source": [
    "yes_pcv1_mean= counter(yes['PCV1'], yes) \n",
    "yes_pcv2_mean=counter(yes['PCV2'], yes)\n",
    "yes_pcv3_mean=counter(yes['PCV3'], yes)\n",
    "\n",
    "yes_pcv_total=(yes_pcv1_mean+yes_pcv2_mean+yes_pcv3_mean)/3"
   ]
  },
  {
   "cell_type": "code",
   "execution_count": 10,
   "metadata": {},
   "outputs": [],
   "source": [
    "yes_pch1_mean= counter(yes['PCH1'],yes) \n",
    "yes_pch2_mean=counter(yes['PCH2'],yes)\n",
    "yes_pch3_mean=counter(yes['PCH3'],yes)\n",
    "\n",
    "yes_pch_total=(yes_pch1_mean+yes_pch2_mean+yes_pch3_mean)/3"
   ]
  },
  {
   "cell_type": "code",
   "execution_count": 11,
   "metadata": {},
   "outputs": [],
   "source": [
    "no_pch1_mean= counter(no['PCH1'],no) \n",
    "no_pch2_mean=counter(no['PCH2'],no)\n",
    "no_pch3_mean=counter(no['PCH3'],no)\n",
    "\n",
    "no_pch_total=(no_pch1_mean+no_pch2_mean+no_pch3_mean)/3"
   ]
  },
  {
   "cell_type": "code",
   "execution_count": 12,
   "metadata": {},
   "outputs": [],
   "source": [
    "no_pcv1_mean= counter(no['PCV1'],no) \n",
    "no_pcv2_mean=counter(no['PCV2'],no)\n",
    "no_pcv3_mean=counter(no['PCV3'],no)\n",
    "\n",
    "no_pcv_total=(no_pcv1_mean+no_pcv2_mean+no_pcv3_mean)/3\n"
   ]
  },
  {
   "cell_type": "markdown",
   "metadata": {},
   "source": [
    "Generate bar charts out of averages "
   ]
  },
  {
   "cell_type": "code",
   "execution_count": 13,
   "metadata": {},
   "outputs": [
    {
     "data": {
      "text/plain": [
       "<BarContainer object of 6 artists>"
      ]
     },
     "execution_count": 13,
     "metadata": {},
     "output_type": "execute_result"
    },
    {
     "data": {
      "image/png": "[encoded data removed]",
      "text/plain": [
       "<Figure size 640x480 with 1 Axes>"
      ]
     },
     "metadata": {},
     "output_type": "display_data"
    }
   ],
   "source": [
    "data1=[yes_pch1_mean,no_pch1_mean, yes_pch2_mean, no_pch2_mean, yes_pch3_mean, no_pch3_mean]\n",
    "plt.xticks(range(len(data1)),['yes_pch1','no_pch1', 'yes_pch2', 'no_pch2', 'yes_pch3', 'no_pch3'])\n",
    "plt.bar(range(len(data1)), data1, color=['blue', 'orange'])"
   ]
  },
  {
   "cell_type": "code",
   "execution_count": 14,
   "metadata": {},
   "outputs": [
    {
     "data": {
      "text/plain": [
       "<BarContainer object of 6 artists>"
      ]
     },
     "execution_count": 14,
     "metadata": {},
     "output_type": "execute_result"
    },
    {
     "data": {
      "image/png": "[encoded data removed]",
      "text/plain": [
       "<Figure size 640x480 with 1 Axes>"
      ]
     },
     "metadata": {},
     "output_type": "display_data"
    }
   ],
   "source": [
    "data2=[yes_pcv1_mean,no_pcv1_mean, yes_pcv2_mean, no_pcv2_mean, yes_pcv3_mean, no_pcv3_mean]\n",
    "plt.xticks(range(len(data2)),['yes_pcv1','no_pcv1', 'yes_pcv2', 'no_pcv2', 'yes_pcv3', 'no_pcv3'])\n",
    "plt.bar(range(len(data2)), data2, color=['blue', 'orange'])"
   ]
  },
  {
   "cell_type": "code",
   "execution_count": 15,
   "metadata": {},
   "outputs": [
    {
     "data": {
      "text/plain": [
       "<BarContainer object of 4 artists>"
      ]
     },
     "execution_count": 15,
     "metadata": {},
     "output_type": "execute_result"
    },
    {
     "data": {
      "image/png": "[encoded data removed]",
      "text/plain": [
       "<Figure size 640x480 with 1 Axes>"
      ]
     },
     "metadata": {},
     "output_type": "display_data"
    }
   ],
   "source": [
    "data3=[yes_pcv_total, no_pcv_total, yes_pch_total, no_pch_total]\n",
    "plt.xticks(range(len(data3)),['yes_pcv','no_pcv', 'yes_pch', 'no_pch'])\n",
    "plt.bar(range(len(data3)), data3,color=['blue', 'orange'])"
   ]
  },
  {
   "cell_type": "markdown",
   "metadata": {},
   "source": [
    "T-tests for UEQ Ratings "
   ]
  },
  {
   "cell_type": "code",
   "execution_count": 25,
   "metadata": {},
   "outputs": [
    {
     "data": {
      "text/plain": [
       "Ttest_indResult(statistic=1.2057600250884835, pvalue=0.8838255269100483)"
      ]
     },
     "execution_count": 25,
     "metadata": {},
     "output_type": "execute_result"
    }
   ],
   "source": [
    "stats.ttest_ind(a=df['VC-Trust_1'],b=df['C-Trust_1'],nan_policy=\"omit\", alternative=\"less\" )"
   ]
  },
  {
   "cell_type": "code",
   "execution_count": 26,
   "metadata": {},
   "outputs": [
    {
     "data": {
      "text/plain": [
       "Ttest_indResult(statistic=0.5185629788417335, pvalue=0.6970730506985193)"
      ]
     },
     "execution_count": 26,
     "metadata": {},
     "output_type": "execute_result"
    }
   ],
   "source": [
    "stats.ttest_ind(a=df['VC-Stimulation_3'],b=df['C-Stimulation_3'], nan_policy=\"omit\", alternative=\"less\" )"
   ]
  },
  {
   "cell_type": "code",
   "execution_count": 27,
   "metadata": {},
   "outputs": [
    {
     "data": {
      "text/plain": [
       "Ttest_indResult(statistic=1.2686582705156964, pvalue=0.8954561917659246)"
      ]
     },
     "execution_count": 27,
     "metadata": {},
     "output_type": "execute_result"
    }
   ],
   "source": [
    "stats.ttest_ind(a=df['C Time_First Click'],b=df['VC Time_First Click'], nan_policy=\"omit\", alternative=\"less\" )"
   ]
  },
  {
   "cell_type": "markdown",
   "metadata": {},
   "source": [
    "Box plots for Time First Click"
   ]
  },
  {
   "cell_type": "code",
   "execution_count": 47,
   "metadata": {},
   "outputs": [
    {
     "data": {
      "image/png": "[encoded data removed]",
      "text/plain": [
       "<Figure size 640x480 with 1 Axes>"
      ]
     },
     "metadata": {},
     "output_type": "display_data"
    }
   ],
   "source": [
    "control_data=df['C Time_First Click'].dropna()\n",
    "visual_data=df['VC Time_First Click'].dropna()\n",
    "\n",
    "first_click_data= [control_data,visual_data]\n",
    "plt.boxplot(first_click_data, showfliers=False)\n",
    "plt.xlabel(\"Conditions\")\n",
    "plt.ylabel(\"Time to First Click(seconds)\")\n",
    "plt.show()\n"
   ]
  },
  {
   "cell_type": "code",
   "execution_count": null,
   "metadata": {},
   "outputs": [],
   "source": [
    "fitter"
   ]
  }
 ],
 "metadata": {
  "kernelspec": {
   "display_name": "Python 3.9.6 64-bit",
   "language": "python",
   "name": "python3"
  },
  "language_info": {
   "codemirror_mode": {
    "name": "ipython",
    "version": 3
   },
   "file_extension": ".py",
   "mimetype": "text/x-python",
   "name": "python",
   "nbconvert_exporter": "python",
   "pygments_lexer": "ipython3",
   "version": "3.9.6"
  },
  "orig_nbformat": 4,
  "vscode": {
   "interpreter": {
    "hash": "31f2aee4e71d21fbe5cf8b01ff0e069b9275f58929596ceb00d14d90e3e16cd6"
   }
  }
 },
 "nbformat": 4,
 "nbformat_minor": 2
}
